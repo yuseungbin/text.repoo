{
 "cells": [
  {
   "cell_type": "code",
   "execution_count": null,
   "metadata": {},
   "outputs": [
    {
     "name": "stdout",
     "output_type": "stream",
     "text": [
      "Select operation.\n",
      "1. Add\n",
      "2. Subtract\n"
     ]
    }
   ],
   "source": [
    "# making calculator\n",
    "# lab 1-1\n",
    "\n",
    "# define function\n",
    "def add(x,y):\n",
    "    return x+y\n",
    "def subtract(x,y):\n",
    "    return x-y\n",
    "\n",
    "# body\n",
    "print(\"Select operation.\")\n",
    "print(\"1. Add\")\n",
    "print(\"2. Subtract\")\n",
    "\n",
    "\n",
    "# take input from user\n",
    "choice = input(\"Enter choice(1/2): \")\n",
    "\n",
    "num1 = float(input(\"첫번째 숫자를 입력하시오: \"))\n",
    "num2 = float(input(\"두번째 숫자를 입력하시오: \"))\n",
    "\n",
    "if choice == '1':\n",
    "    print(num1,\"+\",num2,\"=\",add(num1,num2))\n",
    "elif choice == '2':\n",
    "    print(num1,\"+\",num2,\"=\",subtract(num1,num2))\n",
    "else:\n",
    "    print(\"틀린 입력입니다\")\n"
   ]
  },
  {
   "cell_type": "code",
   "execution_count": null,
   "metadata": {},
   "outputs": [],
   "source": []
  }
 ],
 "metadata": {
  "kernelspec": {
   "display_name": "Python 3",
   "language": "python",
   "name": "python3"
  },
  "language_info": {
   "codemirror_mode": {
    "name": "ipython",
    "version": 3
   },
   "file_extension": ".py",
   "mimetype": "text/x-python",
   "name": "python",
   "nbconvert_exporter": "python",
   "pygments_lexer": "ipython3",
   "version": "3.8.5"
  }
 },
 "nbformat": 4,
 "nbformat_minor": 4
}
